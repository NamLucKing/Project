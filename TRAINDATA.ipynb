{
  "cells": [
    {
      "cell_type": "markdown",
      "metadata": {
        "id": "view-in-github",
        "colab_type": "text"
      },
      "source": [
        "<a href=\"https://colab.research.google.com/github/NamLucKing/Project/blob/master/TRAINDATA.ipynb\" target=\"_parent\"><img src=\"https://colab.research.google.com/assets/colab-badge.svg\" alt=\"Open In Colab\"/></a>"
      ]
    },
    {
      "cell_type": "code",
      "execution_count": null,
      "metadata": {
        "colab": {
          "base_uri": "https://localhost:8080/"
        },
        "id": "cldaRHGlcaoW",
        "outputId": "c2aca39d-345b-48a0-bf28-f4194a35534c"
      },
      "outputs": [
        {
          "name": "stdout",
          "output_type": "stream",
          "text": [
            "Mounted at /content/drive\n"
          ]
        }
      ],
      "source": [
        "from google.colab import drive\n",
        "drive.mount('/content/drive')"
      ]
    },
    {
      "cell_type": "code",
      "execution_count": null,
      "metadata": {
        "colab": {
          "background_save": true
        },
        "id": "TE3zCBm1blwg"
      },
      "outputs": [],
      "source": [
        "import os\n",
        "import shutil\n",
        "import pandas as pd\n",
        "\n",
        "def create_directories(labels, output_path):\n",
        "    for label in labels:\n",
        "        label_path = os.path.join(output_path, str(label))\n",
        "        os.makedirs(label_path, exist_ok=True)\n",
        "\n",
        "def copy_images(csv_path, image_folder, output_path):\n",
        "    df = pd.read_csv(csv_path)\n",
        "\n",
        "    for index, row in df.iterrows():\n",
        "        image_name = row['image']\n",
        "        label = row['labels']\n",
        "\n",
        "        source_path = os.path.join(image_folder, image_name)\n",
        "        destination_path = os.path.join(output_path, str(label), image_name)\n",
        "\n",
        "        shutil.copyfile(source_path, destination_path)\n",
        "\n",
        "if __name__ == \"__main__\":\n",
        "    # Đường dẫn đến thư mục chứa hình ảnh và file CSV\n",
        "    image_folder = \"/content/drive/MyDrive/KLTN_CONHI/Plant Pathology 2021 - FGVC8/train_images\"\n",
        "    csv_path = \"/content/drive/MyDrive/KLTN_CONHI/Plant Pathology 2021 - FGVC8/train.csv\"\n",
        "\n",
        "    # Đường dẫn đến thư mục mới sẽ được tạo ra\n",
        "    output_path = \"/content/drive/MyDrive/Thư mục không có tiêu đề/train\"\n",
        "\n",
        "    # Đọc dữ liệu từ file CSV và tạo thư mục mới\n",
        "    df = pd.read_csv(csv_path)\n",
        "    labels = df['labels'].unique()\n",
        "    create_directories(labels, output_path)\n",
        "\n",
        "    # Sao chép hình ảnh vào các thư mục label tương ứng\n",
        "    copy_images(csv_path, image_folder, output_path)"
      ]
    }
  ],
  "metadata": {
    "colab": {
      "provenance": [],
      "authorship_tag": "ABX9TyMjLCA1B3dNomhnGBOT3+j/",
      "include_colab_link": true
    },
    "kernelspec": {
      "display_name": "Python 3",
      "name": "python3"
    },
    "language_info": {
      "name": "python"
    }
  },
  "nbformat": 4,
  "nbformat_minor": 0
}